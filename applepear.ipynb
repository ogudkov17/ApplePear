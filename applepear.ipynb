{
 "cells": [
  {
   "cell_type": "code",
   "execution_count": 94,
   "id": "90e809ef",
   "metadata": {},
   "outputs": [],
   "source": [
    "import numpy as np\n",
    "import pandas as pd\n",
    "from sklearn.model_selection import train_test_split\n",
    "from sklearn.ensemble import RandomForestClassifier\n",
    "from sklearn.metrics import accuracy_score"
   ]
  },
  {
   "cell_type": "markdown",
   "id": "9eb5a529",
   "metadata": {},
   "source": [
    "Создадим таблицу с произвольными числами\n",
    "\n",
    "При этом столбцы таблицы с прописными буквами A, B, C, D соответствуют ученикам, а строчные буквы a и b - количеству яблок и груш соответственно."
   ]
  },
  {
   "cell_type": "code",
   "execution_count": 95,
   "id": "413526f0",
   "metadata": {},
   "outputs": [],
   "source": [
    "data = pd.DataFrame(np.random.randint(1,100, size=(10000,8)), columns=('Aa', 'Ab', 'Ba', 'Bb', 'Ca', 'Cb', 'Da', 'Db'))"
   ]
  },
  {
   "cell_type": "code",
   "execution_count": 96,
   "id": "ed70aa7a",
   "metadata": {},
   "outputs": [
    {
     "data": {
      "text/html": [
       "<div>\n",
       "<style scoped>\n",
       "    .dataframe tbody tr th:only-of-type {\n",
       "        vertical-align: middle;\n",
       "    }\n",
       "\n",
       "    .dataframe tbody tr th {\n",
       "        vertical-align: top;\n",
       "    }\n",
       "\n",
       "    .dataframe thead th {\n",
       "        text-align: right;\n",
       "    }\n",
       "</style>\n",
       "<table border=\"1\" class=\"dataframe\">\n",
       "  <thead>\n",
       "    <tr style=\"text-align: right;\">\n",
       "      <th></th>\n",
       "      <th>Aa</th>\n",
       "      <th>Ab</th>\n",
       "      <th>Ba</th>\n",
       "      <th>Bb</th>\n",
       "      <th>Ca</th>\n",
       "      <th>Cb</th>\n",
       "      <th>Da</th>\n",
       "      <th>Db</th>\n",
       "    </tr>\n",
       "  </thead>\n",
       "  <tbody>\n",
       "    <tr>\n",
       "      <th>0</th>\n",
       "      <td>11</td>\n",
       "      <td>3</td>\n",
       "      <td>53</td>\n",
       "      <td>79</td>\n",
       "      <td>58</td>\n",
       "      <td>42</td>\n",
       "      <td>23</td>\n",
       "      <td>63</td>\n",
       "    </tr>\n",
       "    <tr>\n",
       "      <th>1</th>\n",
       "      <td>91</td>\n",
       "      <td>53</td>\n",
       "      <td>5</td>\n",
       "      <td>66</td>\n",
       "      <td>68</td>\n",
       "      <td>54</td>\n",
       "      <td>42</td>\n",
       "      <td>27</td>\n",
       "    </tr>\n",
       "    <tr>\n",
       "      <th>2</th>\n",
       "      <td>16</td>\n",
       "      <td>64</td>\n",
       "      <td>78</td>\n",
       "      <td>44</td>\n",
       "      <td>87</td>\n",
       "      <td>7</td>\n",
       "      <td>94</td>\n",
       "      <td>95</td>\n",
       "    </tr>\n",
       "  </tbody>\n",
       "</table>\n",
       "</div>"
      ],
      "text/plain": [
       "   Aa  Ab  Ba  Bb  Ca  Cb  Da  Db\n",
       "0  11   3  53  79  58  42  23  63\n",
       "1  91  53   5  66  68  54  42  27\n",
       "2  16  64  78  44  87   7  94  95"
      ]
     },
     "execution_count": 96,
     "metadata": {},
     "output_type": "execute_result"
    }
   ],
   "source": [
    "data.head(3)"
   ]
  },
  {
   "cell_type": "markdown",
   "id": "cf180543",
   "metadata": {},
   "source": [
    "Создадим промежуточную таблицу, где объединим количество яблок и груш в пары (для того, чтобы потом проще было обработать массив)"
   ]
  },
  {
   "cell_type": "code",
   "execution_count": 97,
   "id": "c789c5af",
   "metadata": {},
   "outputs": [],
   "source": [
    "def joinColumns(x, label):\n",
    "    return x[label+'a'], x[label+'b']"
   ]
  },
  {
   "cell_type": "code",
   "execution_count": 98,
   "id": "d313b708",
   "metadata": {},
   "outputs": [],
   "source": [
    "d = pd.DataFrame()\n",
    "d['A'] = data.apply(lambda x: joinColumns(x, 'A'), axis=1)\n",
    "d['B'] = data.apply(lambda x: joinColumns(x, 'B'), axis=1)\n",
    "d['C'] = data.apply(lambda x: joinColumns(x, 'C'), axis=1)\n",
    "d['D'] = data.apply(lambda x: joinColumns(x, 'D'), axis=1)"
   ]
  },
  {
   "cell_type": "code",
   "execution_count": 99,
   "id": "4064d6de",
   "metadata": {},
   "outputs": [
    {
     "data": {
      "text/html": [
       "<div>\n",
       "<style scoped>\n",
       "    .dataframe tbody tr th:only-of-type {\n",
       "        vertical-align: middle;\n",
       "    }\n",
       "\n",
       "    .dataframe tbody tr th {\n",
       "        vertical-align: top;\n",
       "    }\n",
       "\n",
       "    .dataframe thead th {\n",
       "        text-align: right;\n",
       "    }\n",
       "</style>\n",
       "<table border=\"1\" class=\"dataframe\">\n",
       "  <thead>\n",
       "    <tr style=\"text-align: right;\">\n",
       "      <th></th>\n",
       "      <th>A</th>\n",
       "      <th>B</th>\n",
       "      <th>C</th>\n",
       "      <th>D</th>\n",
       "    </tr>\n",
       "  </thead>\n",
       "  <tbody>\n",
       "    <tr>\n",
       "      <th>0</th>\n",
       "      <td>(11, 3)</td>\n",
       "      <td>(53, 79)</td>\n",
       "      <td>(58, 42)</td>\n",
       "      <td>(23, 63)</td>\n",
       "    </tr>\n",
       "    <tr>\n",
       "      <th>1</th>\n",
       "      <td>(91, 53)</td>\n",
       "      <td>(5, 66)</td>\n",
       "      <td>(68, 54)</td>\n",
       "      <td>(42, 27)</td>\n",
       "    </tr>\n",
       "    <tr>\n",
       "      <th>2</th>\n",
       "      <td>(16, 64)</td>\n",
       "      <td>(78, 44)</td>\n",
       "      <td>(87, 7)</td>\n",
       "      <td>(94, 95)</td>\n",
       "    </tr>\n",
       "  </tbody>\n",
       "</table>\n",
       "</div>"
      ],
      "text/plain": [
       "          A         B         C         D\n",
       "0   (11, 3)  (53, 79)  (58, 42)  (23, 63)\n",
       "1  (91, 53)   (5, 66)  (68, 54)  (42, 27)\n",
       "2  (16, 64)  (78, 44)   (87, 7)  (94, 95)"
      ]
     },
     "execution_count": 99,
     "metadata": {},
     "output_type": "execute_result"
    }
   ],
   "source": [
    "d.head(3)"
   ]
  },
  {
   "cell_type": "markdown",
   "id": "bedaeb5a",
   "metadata": {},
   "source": [
    "Функция определения счастливого ученика (если сортировка по первому элементу совпадает с обратной сортировкой по второму."
   ]
  },
  {
   "cell_type": "code",
   "execution_count": 100,
   "id": "412042c0",
   "metadata": {},
   "outputs": [],
   "source": [
    "def isHappy(x):\n",
    "    lst = list(x.to_numpy())\n",
    "    a = sorted(lst, key=lambda x: x[0])\n",
    "    b = sorted(lst, key=lambda x: x[1], reverse=True)\n",
    "    if a==b:\n",
    "        return 1;\n",
    "    return 0;"
   ]
  },
  {
   "cell_type": "markdown",
   "id": "d52f808b",
   "metadata": {},
   "source": [
    "Применяем функцию к преобразованному массиву и получаем столбец ответов: будет ли данная конфигурация учеников полностью счастливой"
   ]
  },
  {
   "cell_type": "code",
   "execution_count": 102,
   "id": "a5b54dbb",
   "metadata": {},
   "outputs": [],
   "source": [
    "data1 = pd.DataFrame()\n",
    "data1['y'] = d.apply(isHappy, axis=1)"
   ]
  },
  {
   "cell_type": "code",
   "execution_count": 121,
   "id": "708047ce",
   "metadata": {},
   "outputs": [
    {
     "data": {
      "text/html": [
       "<div>\n",
       "<style scoped>\n",
       "    .dataframe tbody tr th:only-of-type {\n",
       "        vertical-align: middle;\n",
       "    }\n",
       "\n",
       "    .dataframe tbody tr th {\n",
       "        vertical-align: top;\n",
       "    }\n",
       "\n",
       "    .dataframe thead th {\n",
       "        text-align: right;\n",
       "    }\n",
       "</style>\n",
       "<table border=\"1\" class=\"dataframe\">\n",
       "  <thead>\n",
       "    <tr style=\"text-align: right;\">\n",
       "      <th></th>\n",
       "      <th>y</th>\n",
       "    </tr>\n",
       "  </thead>\n",
       "  <tbody>\n",
       "    <tr>\n",
       "      <th>0</th>\n",
       "      <td>0</td>\n",
       "    </tr>\n",
       "    <tr>\n",
       "      <th>1</th>\n",
       "      <td>0</td>\n",
       "    </tr>\n",
       "    <tr>\n",
       "      <th>2</th>\n",
       "      <td>0</td>\n",
       "    </tr>\n",
       "  </tbody>\n",
       "</table>\n",
       "</div>"
      ],
      "text/plain": [
       "   y\n",
       "0  0\n",
       "1  0\n",
       "2  0"
      ]
     },
     "execution_count": 121,
     "metadata": {},
     "output_type": "execute_result"
    }
   ],
   "source": [
    "data1.head(3)"
   ]
  },
  {
   "cell_type": "markdown",
   "id": "33c5c7ef",
   "metadata": {},
   "source": [
    "### Этап анализа"
   ]
  },
  {
   "cell_type": "markdown",
   "id": "66312567",
   "metadata": {},
   "source": [
    "Разбиваем созданную выборку на обучающую и тестовую"
   ]
  },
  {
   "cell_type": "code",
   "execution_count": 104,
   "id": "b79fb8cb",
   "metadata": {},
   "outputs": [],
   "source": [
    "X_train, X_test, y_train, y_test = train_test_split(data, data1['y'], test_size=0.3, random_state=42)"
   ]
  },
  {
   "cell_type": "code",
   "execution_count": 106,
   "id": "975bc33c",
   "metadata": {},
   "outputs": [
    {
     "data": {
      "text/html": [
       "<div>\n",
       "<style scoped>\n",
       "    .dataframe tbody tr th:only-of-type {\n",
       "        vertical-align: middle;\n",
       "    }\n",
       "\n",
       "    .dataframe tbody tr th {\n",
       "        vertical-align: top;\n",
       "    }\n",
       "\n",
       "    .dataframe thead th {\n",
       "        text-align: right;\n",
       "    }\n",
       "</style>\n",
       "<table border=\"1\" class=\"dataframe\">\n",
       "  <thead>\n",
       "    <tr style=\"text-align: right;\">\n",
       "      <th></th>\n",
       "      <th>Aa</th>\n",
       "      <th>Ab</th>\n",
       "      <th>Ba</th>\n",
       "      <th>Bb</th>\n",
       "      <th>Ca</th>\n",
       "      <th>Cb</th>\n",
       "      <th>Da</th>\n",
       "      <th>Db</th>\n",
       "    </tr>\n",
       "  </thead>\n",
       "  <tbody>\n",
       "    <tr>\n",
       "      <th>9069</th>\n",
       "      <td>5</td>\n",
       "      <td>14</td>\n",
       "      <td>52</td>\n",
       "      <td>35</td>\n",
       "      <td>6</td>\n",
       "      <td>66</td>\n",
       "      <td>98</td>\n",
       "      <td>54</td>\n",
       "    </tr>\n",
       "    <tr>\n",
       "      <th>2603</th>\n",
       "      <td>1</td>\n",
       "      <td>54</td>\n",
       "      <td>21</td>\n",
       "      <td>79</td>\n",
       "      <td>61</td>\n",
       "      <td>40</td>\n",
       "      <td>37</td>\n",
       "      <td>2</td>\n",
       "    </tr>\n",
       "    <tr>\n",
       "      <th>7738</th>\n",
       "      <td>11</td>\n",
       "      <td>40</td>\n",
       "      <td>4</td>\n",
       "      <td>4</td>\n",
       "      <td>79</td>\n",
       "      <td>45</td>\n",
       "      <td>78</td>\n",
       "      <td>67</td>\n",
       "    </tr>\n",
       "  </tbody>\n",
       "</table>\n",
       "</div>"
      ],
      "text/plain": [
       "      Aa  Ab  Ba  Bb  Ca  Cb  Da  Db\n",
       "9069   5  14  52  35   6  66  98  54\n",
       "2603   1  54  21  79  61  40  37   2\n",
       "7738  11  40   4   4  79  45  78  67"
      ]
     },
     "execution_count": 106,
     "metadata": {},
     "output_type": "execute_result"
    }
   ],
   "source": [
    "X_train.head(3)"
   ]
  },
  {
   "cell_type": "markdown",
   "id": "066d07c2",
   "metadata": {},
   "source": [
    "Возьмем классификатор \"случайный лес\".\n",
    "(Вообще говоря, это возможно не самый лучший вариант анализа и обучения, но то, что под руку попалось)"
   ]
  },
  {
   "cell_type": "code",
   "execution_count": 107,
   "id": "630a9eab",
   "metadata": {},
   "outputs": [],
   "source": [
    "clf = RandomForestClassifier(random_state=0)"
   ]
  },
  {
   "cell_type": "markdown",
   "id": "c95ec1d7",
   "metadata": {},
   "source": [
    "Обучение"
   ]
  },
  {
   "cell_type": "code",
   "execution_count": 108,
   "id": "5f43d12f",
   "metadata": {},
   "outputs": [
    {
     "data": {
      "text/plain": [
       "RandomForestClassifier(random_state=0)"
      ]
     },
     "execution_count": 108,
     "metadata": {},
     "output_type": "execute_result"
    }
   ],
   "source": [
    "clf.fit(X_train, y_train)"
   ]
  },
  {
   "cell_type": "markdown",
   "id": "61563f46",
   "metadata": {},
   "source": [
    "Получаем вектор предсказания"
   ]
  },
  {
   "cell_type": "code",
   "execution_count": 109,
   "id": "5658f8ef",
   "metadata": {},
   "outputs": [],
   "source": [
    "pred=clf.predict(X_test)"
   ]
  },
  {
   "cell_type": "code",
   "execution_count": 110,
   "id": "a4c7ecc1",
   "metadata": {},
   "outputs": [
    {
     "data": {
      "text/plain": [
       "array([0, 0, 0, ..., 0, 0, 0])"
      ]
     },
     "execution_count": 110,
     "metadata": {},
     "output_type": "execute_result"
    }
   ],
   "source": [
    "pred"
   ]
  },
  {
   "cell_type": "markdown",
   "id": "c58a29e3",
   "metadata": {},
   "source": [
    "Получаем точность предсказанного результата"
   ]
  },
  {
   "cell_type": "code",
   "execution_count": 111,
   "id": "13e027f9",
   "metadata": {},
   "outputs": [
    {
     "data": {
      "text/plain": [
       "0.9503333333333334"
      ]
     },
     "execution_count": 111,
     "metadata": {},
     "output_type": "execute_result"
    }
   ],
   "source": [
    "accuracy_score(pred, y_test)"
   ]
  },
  {
   "cell_type": "markdown",
   "id": "d13e2fac",
   "metadata": {},
   "source": [
    "Много выше, чем 0.5, но при этом и нулей в исходной последовательности больше."
   ]
  },
  {
   "cell_type": "markdown",
   "id": "90978ae3",
   "metadata": {},
   "source": [
    "А теперь попробуем наш единственный результат - ответ на задачу"
   ]
  },
  {
   "cell_type": "code",
   "execution_count": 116,
   "id": "2dc75bcf",
   "metadata": {},
   "outputs": [],
   "source": [
    "test_row = {'Aa': [1], 'Ab': [4], 'Ba': [2], 'Bb': [3], 'Ca': [3], 'Cb': [2], 'Da': [4], 'Db':[1]}"
   ]
  },
  {
   "cell_type": "code",
   "execution_count": 117,
   "id": "69a313c7",
   "metadata": {},
   "outputs": [],
   "source": [
    "test_df = pd.DataFrame(test_row)"
   ]
  },
  {
   "cell_type": "code",
   "execution_count": 118,
   "id": "cec16728",
   "metadata": {},
   "outputs": [
    {
     "data": {
      "text/html": [
       "<div>\n",
       "<style scoped>\n",
       "    .dataframe tbody tr th:only-of-type {\n",
       "        vertical-align: middle;\n",
       "    }\n",
       "\n",
       "    .dataframe tbody tr th {\n",
       "        vertical-align: top;\n",
       "    }\n",
       "\n",
       "    .dataframe thead th {\n",
       "        text-align: right;\n",
       "    }\n",
       "</style>\n",
       "<table border=\"1\" class=\"dataframe\">\n",
       "  <thead>\n",
       "    <tr style=\"text-align: right;\">\n",
       "      <th></th>\n",
       "      <th>Aa</th>\n",
       "      <th>Ab</th>\n",
       "      <th>Ba</th>\n",
       "      <th>Bb</th>\n",
       "      <th>Ca</th>\n",
       "      <th>Cb</th>\n",
       "      <th>Da</th>\n",
       "      <th>Db</th>\n",
       "    </tr>\n",
       "  </thead>\n",
       "  <tbody>\n",
       "    <tr>\n",
       "      <th>0</th>\n",
       "      <td>1</td>\n",
       "      <td>4</td>\n",
       "      <td>2</td>\n",
       "      <td>3</td>\n",
       "      <td>3</td>\n",
       "      <td>2</td>\n",
       "      <td>4</td>\n",
       "      <td>1</td>\n",
       "    </tr>\n",
       "  </tbody>\n",
       "</table>\n",
       "</div>"
      ],
      "text/plain": [
       "   Aa  Ab  Ba  Bb  Ca  Cb  Da  Db\n",
       "0   1   4   2   3   3   2   4   1"
      ]
     },
     "execution_count": 118,
     "metadata": {},
     "output_type": "execute_result"
    }
   ],
   "source": [
    "test_df"
   ]
  },
  {
   "cell_type": "markdown",
   "id": "c2dabfca",
   "metadata": {},
   "source": [
    "Предсказываем"
   ]
  },
  {
   "cell_type": "code",
   "execution_count": 120,
   "id": "284ec52d",
   "metadata": {},
   "outputs": [
    {
     "data": {
      "text/plain": [
       "array([0])"
      ]
     },
     "execution_count": 120,
     "metadata": {},
     "output_type": "execute_result"
    }
   ],
   "source": [
    "clf.predict(test_df)"
   ]
  },
  {
   "cell_type": "markdown",
   "id": "2c9e7976",
   "metadata": {},
   "source": [
    "Это фиаско!"
   ]
  },
  {
   "cell_type": "code",
   "execution_count": null,
   "id": "2f9dcb78",
   "metadata": {},
   "outputs": [],
   "source": []
  }
 ],
 "metadata": {
  "kernelspec": {
   "display_name": "Python 3 (ipykernel)",
   "language": "python",
   "name": "python3"
  },
  "language_info": {
   "codemirror_mode": {
    "name": "ipython",
    "version": 3
   },
   "file_extension": ".py",
   "mimetype": "text/x-python",
   "name": "python",
   "nbconvert_exporter": "python",
   "pygments_lexer": "ipython3",
   "version": "3.9.7"
  }
 },
 "nbformat": 4,
 "nbformat_minor": 5
}
